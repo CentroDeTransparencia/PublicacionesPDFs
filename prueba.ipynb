{
 "cells": [
  {
   "cell_type": "code",
   "execution_count": 2,
   "metadata": {},
   "outputs": [
    {
     "name": "stdout",
     "output_type": "stream",
     "text": [
      "Collecting pdfkit\n",
      "  Using cached pdfkit-1.0.0-py3-none-any.whl (12 kB)\n",
      "Installing collected packages: pdfkit\n",
      "Successfully installed pdfkit-1.0.0\n",
      "Note: you may need to restart the kernel to use updated packages.\n"
     ]
    }
   ],
   "source": [
    "pip install pdfkit"
   ]
  },
  {
   "cell_type": "code",
   "execution_count": 2,
   "metadata": {},
   "outputs": [
    {
     "data": {
      "text/plain": [
       "True"
      ]
     },
     "execution_count": 2,
     "metadata": {},
     "output_type": "execute_result"
    }
   ],
   "source": [
    "import pdfkit\n",
    "\n",
    "pdfkit.from_url('https://www.centrodetransparenciappii.org/publicaciones/sinergia-institucional-la-hora-de-adelantar-los-proyectos-piloto-de-investigacion', 'publicacionprueba.pdf')"
   ]
  },
  {
   "cell_type": "code",
   "execution_count": 2,
   "metadata": {},
   "outputs": [
    {
     "ename": "NameError",
     "evalue": "name 'pdfkit' is not defined",
     "output_type": "error",
     "traceback": [
      "\u001b[1;31m---------------------------------------------------------------------------\u001b[0m",
      "\u001b[1;31mNameError\u001b[0m                                 Traceback (most recent call last)",
      "\u001b[1;32mc:\\Users\\maleo\\OneDrive - Universidad Nacional de Colombia\\Documents\\Repos\\CdT\\Comunicaciones\\publicacionesPDFs\\prueba.ipynb Celda 3\u001b[0m in \u001b[0;36m<cell line: 8>\u001b[1;34m()\u001b[0m\n\u001b[0;32m      <a href='vscode-notebook-cell:/c%3A/Users/maleo/OneDrive%20-%20Universidad%20Nacional%20de%20Colombia/Documents/Repos/CdT/Comunicaciones/publicacionesPDFs/prueba.ipynb#W2sZmlsZQ%3D%3D?line=4'>5</a>\u001b[0m data \u001b[39m=\u001b[39m pd\u001b[39m.\u001b[39mread_excel(\u001b[39m'\u001b[39m\u001b[39murlspublicaciones t2.xlsx\u001b[39m\u001b[39m'\u001b[39m)\n\u001b[0;32m      <a href='vscode-notebook-cell:/c%3A/Users/maleo/OneDrive%20-%20Universidad%20Nacional%20de%20Colombia/Documents/Repos/CdT/Comunicaciones/publicacionesPDFs/prueba.ipynb#W2sZmlsZQ%3D%3D?line=7'>8</a>\u001b[0m \u001b[39mfor\u001b[39;00m item \u001b[39min\u001b[39;00m data[\u001b[39m\"\u001b[39m\u001b[39murl\u001b[39m\u001b[39m\"\u001b[39m]:\n\u001b[1;32m----> <a href='vscode-notebook-cell:/c%3A/Users/maleo/OneDrive%20-%20Universidad%20Nacional%20de%20Colombia/Documents/Repos/CdT/Comunicaciones/publicacionesPDFs/prueba.ipynb#W2sZmlsZQ%3D%3D?line=8'>9</a>\u001b[0m         pdfkit\u001b[39m.\u001b[39mfrom_url(item,item\u001b[39m.\u001b[39msplit(\u001b[39m\"\u001b[39m\u001b[39mhttps://www.centrodetransparenciappii.org/publicaciones/\u001b[39m\u001b[39m\"\u001b[39m)[\u001b[39m1\u001b[39m]\u001b[39m+\u001b[39m\u001b[39m'\u001b[39m\u001b[39m.pdf\u001b[39m\u001b[39m'\u001b[39m)\n\u001b[0;32m     <a href='vscode-notebook-cell:/c%3A/Users/maleo/OneDrive%20-%20Universidad%20Nacional%20de%20Colombia/Documents/Repos/CdT/Comunicaciones/publicacionesPDFs/prueba.ipynb#W2sZmlsZQ%3D%3D?line=9'>10</a>\u001b[0m         \u001b[39mprint\u001b[39m(item\u001b[39m.\u001b[39msplit(\u001b[39m\"\u001b[39m\u001b[39mhttps://www.centrodetransparenciappii.org/publicaciones/\u001b[39m\u001b[39m\"\u001b[39m)[\u001b[39m1\u001b[39m]\u001b[39m+\u001b[39m\u001b[39m'\u001b[39m\u001b[39m.pdf fue generado\u001b[39m\u001b[39m'\u001b[39m)\n",
      "\u001b[1;31mNameError\u001b[0m: name 'pdfkit' is not defined"
     ]
    }
   ],
   "source": [
    "import pandas as pd\n",
    "import math\n",
    "\n",
    "\n",
    "data = pd.read_excel('urlspublicacionest2.xlsx')\n",
    "\n",
    "\n",
    "for item in data[\"url\"]:\n",
    "        pdfkit.from_url(item,item.split(\"https://www.centrodetransparenciappii.org/publicaciones/\")[1]+'.pdf')\n",
    "        print(item.split(\"https://www.centrodetransparenciappii.org/publicaciones/\")[1]+'.pdf fue generado')"
   ]
  },
  {
   "cell_type": "code",
   "execution_count": 45,
   "metadata": {},
   "outputs": [
    {
     "data": {
      "text/plain": [
       "True"
      ]
     },
     "execution_count": 45,
     "metadata": {},
     "output_type": "execute_result"
    }
   ],
   "source": [
    "pdfkit.from_url(\"https://www.centrodetransparenciappii.org/publicaciones/la-utilidad-de-las-inundaciones-naturales-en-el-magdalena\",'la-utilidad-de-las-inundaciones-naturales-en-el-magdalena.pdf')"
   ]
  }
 ],
 "metadata": {
  "kernelspec": {
   "display_name": "Python 3.9.7",
   "language": "python",
   "name": "python3"
  },
  "language_info": {
   "codemirror_mode": {
    "name": "ipython",
    "version": 3
   },
   "file_extension": ".py",
   "mimetype": "text/x-python",
   "name": "python",
   "nbconvert_exporter": "python",
   "pygments_lexer": "ipython3",
   "version": "3.9.7"
  },
  "orig_nbformat": 4,
  "vscode": {
   "interpreter": {
    "hash": "19d9ce609b757b7a9a501eab6a2cce6499757e628fef58083be890e73e62d336"
   }
  }
 },
 "nbformat": 4,
 "nbformat_minor": 2
}
